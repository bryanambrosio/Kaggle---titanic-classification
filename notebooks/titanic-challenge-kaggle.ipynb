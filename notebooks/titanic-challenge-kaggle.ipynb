{
 "cells": [
  {
   "cell_type": "code",
   "execution_count": 1,
   "id": "f042c509",
   "metadata": {
    "_cell_guid": "b1076dfc-b9ad-4769-8c92-a6c4dae69d19",
    "_uuid": "8f2839f25d086af736a60e9eeb907d3b93b6e0e5",
    "execution": {
     "iopub.execute_input": "2024-12-24T18:14:45.062207Z",
     "iopub.status.busy": "2024-12-24T18:14:45.061697Z",
     "iopub.status.idle": "2024-12-24T18:14:46.019598Z",
     "shell.execute_reply": "2024-12-24T18:14:46.018456Z"
    },
    "papermill": {
     "duration": 0.965569,
     "end_time": "2024-12-24T18:14:46.022179",
     "exception": false,
     "start_time": "2024-12-24T18:14:45.056610",
     "status": "completed"
    },
    "tags": []
   },
   "outputs": [
    {
     "name": "stdout",
     "output_type": "stream",
     "text": [
      "/kaggle/input/titanic/train.csv\n",
      "/kaggle/input/titanic/test.csv\n",
      "/kaggle/input/titanic/gender_submission.csv\n"
     ]
    }
   ],
   "source": [
    "# This Python 3 environment comes with many helpful analytics libraries installed\n",
    "# It is defined by the kaggle/python Docker image: https://github.com/kaggle/docker-python\n",
    "# For example, here's several helpful packages to load\n",
    "\n",
    "import numpy as np # linear algebra\n",
    "import pandas as pd # data processing, CSV file I/O (e.g. pd.read_csv)\n",
    "\n",
    "# Input data files are available in the read-only \"../input/\" directory\n",
    "# For example, running this (by clicking run or pressing Shift+Enter) will list all files under the input directory\n",
    "\n",
    "import os\n",
    "for dirname, _, filenames in os.walk('/kaggle/input'):\n",
    "    for filename in filenames:\n",
    "        print(os.path.join(dirname, filename))\n",
    "\n",
    "# You can write up to 20GB to the current directory (/kaggle/working/) that gets preserved as output when you create a version using \"Save & Run All\" \n",
    "# You can also write temporary files to /kaggle/temp/, but they won't be saved outside of the current session"
   ]
  },
  {
   "cell_type": "code",
   "execution_count": 2,
   "id": "68f544a4",
   "metadata": {
    "execution": {
     "iopub.execute_input": "2024-12-24T18:14:46.029926Z",
     "iopub.status.busy": "2024-12-24T18:14:46.029373Z",
     "iopub.status.idle": "2024-12-24T18:14:46.093672Z",
     "shell.execute_reply": "2024-12-24T18:14:46.092413Z"
    },
    "papermill": {
     "duration": 0.070703,
     "end_time": "2024-12-24T18:14:46.096174",
     "exception": false,
     "start_time": "2024-12-24T18:14:46.025471",
     "status": "completed"
    },
    "tags": []
   },
   "outputs": [
    {
     "data": {
      "text/html": [
       "<div>\n",
       "<style scoped>\n",
       "    .dataframe tbody tr th:only-of-type {\n",
       "        vertical-align: middle;\n",
       "    }\n",
       "\n",
       "    .dataframe tbody tr th {\n",
       "        vertical-align: top;\n",
       "    }\n",
       "\n",
       "    .dataframe thead th {\n",
       "        text-align: right;\n",
       "    }\n",
       "</style>\n",
       "<table border=\"1\" class=\"dataframe\">\n",
       "  <thead>\n",
       "    <tr style=\"text-align: right;\">\n",
       "      <th></th>\n",
       "      <th>Survived</th>\n",
       "      <th>Pclass</th>\n",
       "      <th>Sex</th>\n",
       "      <th>Age</th>\n",
       "      <th>SibSp</th>\n",
       "      <th>Parch</th>\n",
       "      <th>Fare</th>\n",
       "      <th>Embarked</th>\n",
       "    </tr>\n",
       "  </thead>\n",
       "  <tbody>\n",
       "    <tr>\n",
       "      <th>0</th>\n",
       "      <td>0</td>\n",
       "      <td>3</td>\n",
       "      <td>male</td>\n",
       "      <td>22.0</td>\n",
       "      <td>1</td>\n",
       "      <td>0</td>\n",
       "      <td>7.2500</td>\n",
       "      <td>S</td>\n",
       "    </tr>\n",
       "    <tr>\n",
       "      <th>1</th>\n",
       "      <td>1</td>\n",
       "      <td>1</td>\n",
       "      <td>female</td>\n",
       "      <td>38.0</td>\n",
       "      <td>1</td>\n",
       "      <td>0</td>\n",
       "      <td>71.2833</td>\n",
       "      <td>C</td>\n",
       "    </tr>\n",
       "    <tr>\n",
       "      <th>2</th>\n",
       "      <td>1</td>\n",
       "      <td>3</td>\n",
       "      <td>female</td>\n",
       "      <td>26.0</td>\n",
       "      <td>0</td>\n",
       "      <td>0</td>\n",
       "      <td>7.9250</td>\n",
       "      <td>S</td>\n",
       "    </tr>\n",
       "    <tr>\n",
       "      <th>3</th>\n",
       "      <td>1</td>\n",
       "      <td>1</td>\n",
       "      <td>female</td>\n",
       "      <td>35.0</td>\n",
       "      <td>1</td>\n",
       "      <td>0</td>\n",
       "      <td>53.1000</td>\n",
       "      <td>S</td>\n",
       "    </tr>\n",
       "    <tr>\n",
       "      <th>4</th>\n",
       "      <td>0</td>\n",
       "      <td>3</td>\n",
       "      <td>male</td>\n",
       "      <td>35.0</td>\n",
       "      <td>0</td>\n",
       "      <td>0</td>\n",
       "      <td>8.0500</td>\n",
       "      <td>S</td>\n",
       "    </tr>\n",
       "  </tbody>\n",
       "</table>\n",
       "</div>"
      ],
      "text/plain": [
       "   Survived  Pclass     Sex   Age  SibSp  Parch     Fare Embarked\n",
       "0         0       3    male  22.0      1      0   7.2500        S\n",
       "1         1       1  female  38.0      1      0  71.2833        C\n",
       "2         1       3  female  26.0      0      0   7.9250        S\n",
       "3         1       1  female  35.0      1      0  53.1000        S\n",
       "4         0       3    male  35.0      0      0   8.0500        S"
      ]
     },
     "execution_count": 2,
     "metadata": {},
     "output_type": "execute_result"
    }
   ],
   "source": [
    "train_data = pd.read_csv(\"/kaggle/input/titanic/train.csv\")\n",
    "test_data = pd.read_csv(\"/kaggle/input/titanic/test.csv\")\n",
    "train_data.head()\n",
    "test_ids = test_data[\"PassengerId\"]\n",
    "#test_data.head()\n",
    "\n",
    "def clean(train_data):\n",
    "    train_data = train_data.drop([\"Ticket\", \"Cabin\", \"Name\", \"PassengerId\"], axis=1)\n",
    "    \n",
    "    cols = [\"SibSp\", \"Parch\", \"Fare\", \"Age\"]\n",
    "    for col in cols:\n",
    "        train_data[col].fillna(train_data[col].median())\n",
    "\n",
    "    train_data.Embarked.fillna(\"U\")\n",
    "    return train_data\n",
    "\n",
    "train_data = clean(train_data)\n",
    "test_data = clean(test_data)\n",
    "train_data.head()"
   ]
  },
  {
   "cell_type": "code",
   "execution_count": 3,
   "id": "bf415ed3",
   "metadata": {
    "execution": {
     "iopub.execute_input": "2024-12-24T18:14:46.105410Z",
     "iopub.status.busy": "2024-12-24T18:14:46.104318Z",
     "iopub.status.idle": "2024-12-24T18:14:47.574116Z",
     "shell.execute_reply": "2024-12-24T18:14:47.572957Z"
    },
    "papermill": {
     "duration": 1.476739,
     "end_time": "2024-12-24T18:14:47.576601",
     "exception": false,
     "start_time": "2024-12-24T18:14:46.099862",
     "status": "completed"
    },
    "tags": []
   },
   "outputs": [
    {
     "name": "stdout",
     "output_type": "stream",
     "text": [
      "['female' 'male']\n",
      "['C' 'Q' 'S' nan]\n"
     ]
    },
    {
     "data": {
      "text/html": [
       "<div>\n",
       "<style scoped>\n",
       "    .dataframe tbody tr th:only-of-type {\n",
       "        vertical-align: middle;\n",
       "    }\n",
       "\n",
       "    .dataframe tbody tr th {\n",
       "        vertical-align: top;\n",
       "    }\n",
       "\n",
       "    .dataframe thead th {\n",
       "        text-align: right;\n",
       "    }\n",
       "</style>\n",
       "<table border=\"1\" class=\"dataframe\">\n",
       "  <thead>\n",
       "    <tr style=\"text-align: right;\">\n",
       "      <th></th>\n",
       "      <th>Survived</th>\n",
       "      <th>Pclass</th>\n",
       "      <th>Sex</th>\n",
       "      <th>Age</th>\n",
       "      <th>SibSp</th>\n",
       "      <th>Parch</th>\n",
       "      <th>Fare</th>\n",
       "      <th>Embarked</th>\n",
       "    </tr>\n",
       "  </thead>\n",
       "  <tbody>\n",
       "    <tr>\n",
       "      <th>0</th>\n",
       "      <td>0</td>\n",
       "      <td>3</td>\n",
       "      <td>1</td>\n",
       "      <td>22.0</td>\n",
       "      <td>1</td>\n",
       "      <td>0</td>\n",
       "      <td>7.2500</td>\n",
       "      <td>2</td>\n",
       "    </tr>\n",
       "    <tr>\n",
       "      <th>1</th>\n",
       "      <td>1</td>\n",
       "      <td>1</td>\n",
       "      <td>0</td>\n",
       "      <td>38.0</td>\n",
       "      <td>1</td>\n",
       "      <td>0</td>\n",
       "      <td>71.2833</td>\n",
       "      <td>0</td>\n",
       "    </tr>\n",
       "    <tr>\n",
       "      <th>2</th>\n",
       "      <td>1</td>\n",
       "      <td>3</td>\n",
       "      <td>0</td>\n",
       "      <td>26.0</td>\n",
       "      <td>0</td>\n",
       "      <td>0</td>\n",
       "      <td>7.9250</td>\n",
       "      <td>2</td>\n",
       "    </tr>\n",
       "    <tr>\n",
       "      <th>3</th>\n",
       "      <td>1</td>\n",
       "      <td>1</td>\n",
       "      <td>0</td>\n",
       "      <td>35.0</td>\n",
       "      <td>1</td>\n",
       "      <td>0</td>\n",
       "      <td>53.1000</td>\n",
       "      <td>2</td>\n",
       "    </tr>\n",
       "    <tr>\n",
       "      <th>4</th>\n",
       "      <td>0</td>\n",
       "      <td>3</td>\n",
       "      <td>1</td>\n",
       "      <td>35.0</td>\n",
       "      <td>0</td>\n",
       "      <td>0</td>\n",
       "      <td>8.0500</td>\n",
       "      <td>2</td>\n",
       "    </tr>\n",
       "  </tbody>\n",
       "</table>\n",
       "</div>"
      ],
      "text/plain": [
       "   Survived  Pclass  Sex   Age  SibSp  Parch     Fare  Embarked\n",
       "0         0       3    1  22.0      1      0   7.2500         2\n",
       "1         1       1    0  38.0      1      0  71.2833         0\n",
       "2         1       3    0  26.0      0      0   7.9250         2\n",
       "3         1       1    0  35.0      1      0  53.1000         2\n",
       "4         0       3    1  35.0      0      0   8.0500         2"
      ]
     },
     "execution_count": 3,
     "metadata": {},
     "output_type": "execute_result"
    }
   ],
   "source": [
    "from sklearn import preprocessing\n",
    "le = preprocessing.LabelEncoder()\n",
    "\n",
    "cols = [\"Sex\", \"Embarked\"]\n",
    "\n",
    "for col in cols:\n",
    "    train_data[col] = le.fit_transform(train_data[col])\n",
    "    test_data[col] = le.transform(test_data[col])\n",
    "    print(le.classes_)\n",
    "\n",
    "train_data.head(5)\n"
   ]
  },
  {
   "cell_type": "code",
   "execution_count": 4,
   "id": "01833dfc",
   "metadata": {
    "execution": {
     "iopub.execute_input": "2024-12-24T18:14:47.585505Z",
     "iopub.status.busy": "2024-12-24T18:14:47.584942Z",
     "iopub.status.idle": "2024-12-24T18:14:47.596850Z",
     "shell.execute_reply": "2024-12-24T18:14:47.595385Z"
    },
    "papermill": {
     "duration": 0.019281,
     "end_time": "2024-12-24T18:14:47.599330",
     "exception": false,
     "start_time": "2024-12-24T18:14:47.580049",
     "status": "completed"
    },
    "tags": []
   },
   "outputs": [
    {
     "name": "stdout",
     "output_type": "stream",
     "text": [
      "Conjunto train_data possui 177 valores ausentes.\n",
      "Valores ausentes por coluna:\n",
      "Age    177\n",
      "dtype: int64\n",
      "Conjunto test_data possui 87 valores ausentes.\n",
      "Valores ausentes por coluna:\n",
      "Age     86\n",
      "Fare     1\n",
      "dtype: int64\n"
     ]
    }
   ],
   "source": [
    "def check_missing_values(data, dataset_name):\n",
    "    missing_values = data.isnull().sum()  # Soma de valores ausentes por coluna\n",
    "    total_missing = missing_values.sum()  # Soma total de valores ausentes\n",
    "    if total_missing > 0:\n",
    "        print(f\"Conjunto {dataset_name} possui {total_missing} valores ausentes.\")\n",
    "        print(\"Valores ausentes por coluna:\")\n",
    "        print(missing_values[missing_values > 0])  # Exibir apenas colunas com valores ausentes\n",
    "    else:\n",
    "        print(f\"Conjunto {dataset_name} não possui valores ausentes.\")\n",
    "\n",
    "check_missing_values(train_data, \"train_data\")\n",
    "check_missing_values(test_data, \"test_data\")\n"
   ]
  },
  {
   "cell_type": "code",
   "execution_count": 5,
   "id": "eec2bdad",
   "metadata": {
    "execution": {
     "iopub.execute_input": "2024-12-24T18:14:47.608651Z",
     "iopub.status.busy": "2024-12-24T18:14:47.608219Z",
     "iopub.status.idle": "2024-12-24T18:14:47.622396Z",
     "shell.execute_reply": "2024-12-24T18:14:47.621255Z"
    },
    "papermill": {
     "duration": 0.022526,
     "end_time": "2024-12-24T18:14:47.625403",
     "exception": false,
     "start_time": "2024-12-24T18:14:47.602877",
     "status": "completed"
    },
    "tags": []
   },
   "outputs": [
    {
     "name": "stdout",
     "output_type": "stream",
     "text": [
      "Valores ausentes em train_data:\n",
      "Survived    0\n",
      "Pclass      0\n",
      "Sex         0\n",
      "Age         0\n",
      "SibSp       0\n",
      "Parch       0\n",
      "Fare        0\n",
      "Embarked    0\n",
      "dtype: int64\n",
      "\n",
      "Valores ausentes em test_data:\n",
      "Pclass      0\n",
      "Sex         0\n",
      "Age         0\n",
      "SibSp       0\n",
      "Parch       0\n",
      "Fare        0\n",
      "Embarked    0\n",
      "dtype: int64\n"
     ]
    }
   ],
   "source": [
    "# Calcular a média de \"Fare\" no test_data\n",
    "fare_mean = test_data[\"Fare\"].mean()\n",
    "\n",
    "# Imputar valores ausentes em \"Fare\" com a média\n",
    "test_data[\"Fare\"] = test_data[\"Fare\"].fillna(fare_mean)\n",
    "# Calcular a média de \"Age\" nos conjuntos de dados\n",
    "age_mean_train = train_data[\"Age\"].mean()\n",
    "age_mean_test = test_data[\"Age\"].mean()\n",
    "\n",
    "# Imputar valores ausentes em \"Age\" com a média\n",
    "train_data[\"Age\"] = train_data[\"Age\"].fillna(age_mean_train)\n",
    "test_data[\"Age\"] = test_data[\"Age\"].fillna(age_mean_test)\n",
    "\n",
    "# Verificar se os valores ausentes foram tratados\n",
    "print(\"Valores ausentes em train_data:\")\n",
    "print(train_data.isnull().sum())\n",
    "\n",
    "print(\"\\nValores ausentes em test_data:\")\n",
    "print(test_data.isnull().sum())\n"
   ]
  },
  {
   "cell_type": "code",
   "execution_count": 6,
   "id": "ec1ddd30",
   "metadata": {
    "execution": {
     "iopub.execute_input": "2024-12-24T18:14:47.635335Z",
     "iopub.status.busy": "2024-12-24T18:14:47.634349Z",
     "iopub.status.idle": "2024-12-24T18:14:47.943713Z",
     "shell.execute_reply": "2024-12-24T18:14:47.942805Z"
    },
    "papermill": {
     "duration": 0.317212,
     "end_time": "2024-12-24T18:14:47.946238",
     "exception": false,
     "start_time": "2024-12-24T18:14:47.629026",
     "status": "completed"
    },
    "tags": []
   },
   "outputs": [],
   "source": [
    "from sklearn.linear_model import LogisticRegression\n",
    "from sklearn.model_selection import train_test_split\n",
    "\n",
    "y = train_data[\"Survived\"]\n",
    "X = train_data.drop(\"Survived\", axis=1)\n",
    "\n",
    "X_train, X_val, y_train, y_val = train_test_split(X, y, test_size=0.2, random_state=42)"
   ]
  },
  {
   "cell_type": "code",
   "execution_count": 7,
   "id": "e3c2af51",
   "metadata": {
    "execution": {
     "iopub.execute_input": "2024-12-24T18:14:47.956064Z",
     "iopub.status.busy": "2024-12-24T18:14:47.955182Z",
     "iopub.status.idle": "2024-12-24T18:14:47.987849Z",
     "shell.execute_reply": "2024-12-24T18:14:47.986440Z"
    },
    "papermill": {
     "duration": 0.040572,
     "end_time": "2024-12-24T18:14:47.990501",
     "exception": false,
     "start_time": "2024-12-24T18:14:47.949929",
     "status": "completed"
    },
    "tags": []
   },
   "outputs": [],
   "source": [
    "clf = LogisticRegression(random_state=0, max_iter=1000).fit(X_train, y_train)"
   ]
  },
  {
   "cell_type": "code",
   "execution_count": 8,
   "id": "4040d11b",
   "metadata": {
    "execution": {
     "iopub.execute_input": "2024-12-24T18:14:47.999214Z",
     "iopub.status.busy": "2024-12-24T18:14:47.998795Z",
     "iopub.status.idle": "2024-12-24T18:14:48.009740Z",
     "shell.execute_reply": "2024-12-24T18:14:48.008450Z"
    },
    "papermill": {
     "duration": 0.018194,
     "end_time": "2024-12-24T18:14:48.012216",
     "exception": false,
     "start_time": "2024-12-24T18:14:47.994022",
     "status": "completed"
    },
    "tags": []
   },
   "outputs": [
    {
     "data": {
      "text/plain": [
       "0.8100558659217877"
      ]
     },
     "execution_count": 8,
     "metadata": {},
     "output_type": "execute_result"
    }
   ],
   "source": [
    "predictions = clf.predict(X_val)\n",
    "from sklearn.metrics import accuracy_score\n",
    "accuracy_score(y_val, predictions)"
   ]
  },
  {
   "cell_type": "code",
   "execution_count": 9,
   "id": "709b30f1",
   "metadata": {
    "execution": {
     "iopub.execute_input": "2024-12-24T18:14:48.021510Z",
     "iopub.status.busy": "2024-12-24T18:14:48.021092Z",
     "iopub.status.idle": "2024-12-24T18:14:48.034136Z",
     "shell.execute_reply": "2024-12-24T18:14:48.033051Z"
    },
    "papermill": {
     "duration": 0.020231,
     "end_time": "2024-12-24T18:14:48.036443",
     "exception": false,
     "start_time": "2024-12-24T18:14:48.016212",
     "status": "completed"
    },
    "tags": []
   },
   "outputs": [
    {
     "name": "stdout",
     "output_type": "stream",
     "text": [
      "/kaggle/working\n",
      "Arquivo salvo como submission.csv\n"
     ]
    }
   ],
   "source": [
    "submission_preds = clf.predict(test_data)\n",
    "\n",
    "# Agora, ambos têm o mesmo comprimento\n",
    "df = pd.DataFrame({\n",
    "    \"PassengerId\": test_ids.values,\n",
    "    \"Survived\": submission_preds\n",
    "})\n",
    "\n",
    "df.to_csv(\"submission.csv\", index=False)\n",
    "\n",
    "\n",
    "import os\n",
    "print(os.getcwd())  # Mostra o diretório atual\n",
    "print(\"Arquivo salvo como submission.csv\")\n",
    "\n"
   ]
  }
 ],
 "metadata": {
  "kaggle": {
   "accelerator": "none",
   "dataSources": [
    {
     "databundleVersionId": 26502,
     "sourceId": 3136,
     "sourceType": "competition"
    }
   ],
   "dockerImageVersionId": 30786,
   "isGpuEnabled": false,
   "isInternetEnabled": false,
   "language": "python",
   "sourceType": "notebook"
  },
  "kernelspec": {
   "display_name": "Python 3",
   "language": "python",
   "name": "python3"
  },
  "language_info": {
   "codemirror_mode": {
    "name": "ipython",
    "version": 3
   },
   "file_extension": ".py",
   "mimetype": "text/x-python",
   "name": "python",
   "nbconvert_exporter": "python",
   "pygments_lexer": "ipython3",
   "version": "3.10.14"
  },
  "papermill": {
   "default_parameters": {},
   "duration": 7.052679,
   "end_time": "2024-12-24T18:14:48.661139",
   "environment_variables": {},
   "exception": null,
   "input_path": "__notebook__.ipynb",
   "output_path": "__notebook__.ipynb",
   "parameters": {},
   "start_time": "2024-12-24T18:14:41.608460",
   "version": "2.6.0"
  }
 },
 "nbformat": 4,
 "nbformat_minor": 5
}
